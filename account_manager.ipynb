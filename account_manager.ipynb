{
 "cells": [
  {
   "cell_type": "code",
   "execution_count": 1,
   "metadata": {
    "collapsed": true
   },
   "outputs": [],
   "source": [
    "from fabLib import *\n",
    "from fabric.api import settings\n",
    "import credentials"
   ]
  },
  {
   "cell_type": "code",
   "execution_count": 2,
   "metadata": {
    "collapsed": false
   },
   "outputs": [],
   "source": [
    "passwd = credentials.get_credentials()\n",
    "\n",
    "def check_credentials(host):\n",
    "    global passwd\n",
    "    while True:\n",
    "        if host in passwd:\n",
    "            break\n",
    "        credentials.add_credentials(host)\n",
    "    passwd = credentials.get_credentials()"
   ]
  },
  {
   "cell_type": "code",
   "execution_count": null,
   "metadata": {
    "collapsed": false
   },
   "outputs": [],
   "source": [
    "host = 'syan@216.230.228.88' ## fill in the host\n",
    "check_credentials(host)\n",
    "with settings(host_string=host, password=passwd[host]):\n",
    "    server.add_users([('ol_roberthat', 'Jb4cEe23')])\n",
    "#     server.add_users(['linuxuser'])"
   ]
  },
  {
   "cell_type": "code",
   "execution_count": null,
   "metadata": {
    "collapsed": true
   },
   "outputs": [],
   "source": [
    "user_list"
   ]
  },
  {
   "cell_type": "code",
   "execution_count": null,
   "metadata": {
    "collapsed": false
   },
   "outputs": [],
   "source": [
    "host = None ## fill in the host\n",
    "check_credentials(host)\n",
    "with settings(host_string=host, password=passwd[host]):\n",
    "    hive.add_users(add_list=user_list)"
   ]
  },
  {
   "cell_type": "code",
   "execution_count": null,
   "metadata": {
    "collapsed": false
   },
   "outputs": [],
   "source": [
    "host = None ## fill in the host\n",
    "check_credentials(host)\n",
    "with settings(host_string=host, password=passwd[host]):\n",
    "    hdfs.del_users(del_list=user_list)"
   ]
  },
  {
   "cell_type": "code",
   "execution_count": null,
   "metadata": {
    "collapsed": false
   },
   "outputs": [],
   "source": [
    "user_list"
   ]
  },
  {
   "cell_type": "code",
   "execution_count": null,
   "metadata": {
    "collapsed": true
   },
   "outputs": [],
   "source": []
  }
 ],
 "metadata": {
  "anaconda-cloud": {},
  "kernelspec": {
   "display_name": "Python [Root]",
   "language": "python",
   "name": "Python [Root]"
  },
  "language_info": {
   "codemirror_mode": {
    "name": "ipython",
    "version": 2
   },
   "file_extension": ".py",
   "mimetype": "text/x-python",
   "name": "python",
   "nbconvert_exporter": "python",
   "pygments_lexer": "ipython2",
   "version": "2.7.12"
  }
 },
 "nbformat": 4,
 "nbformat_minor": 0
}
