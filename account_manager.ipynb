{
 "cells": [
  {
   "cell_type": "code",
   "execution_count": null,
   "metadata": {
    "collapsed": true
   },
   "outputs": [],
   "source": [
    "from fabLib import *\n",
    "from fabric.api import settings\n",
    "import credentials"
   ]
  },
  {
   "cell_type": "code",
   "execution_count": null,
   "metadata": {
    "collapsed": true
   },
   "outputs": [],
   "source": [
    "passwd = credentials.get_credentials()\n",
    "\n",
    "def check_credentials(host):\n",
    "    global passwd\n",
    "    while True:\n",
    "        if host in passwd:\n",
    "            break\n",
    "        credentials.add_credentials()\n",
    "    passwd = credentials.get_credentials()"
   ]
  },
  {
   "cell_type": "markdown",
   "metadata": {},
   "source": [
    "The following code shows how to create users for hdfs and hive in nodea:\n",
    "\n",
    "1 - get list of users in nodea\n",
    "2 - create hdfs accounts and hive accounts for users"
   ]
  },
  {
   "cell_type": "code",
   "execution_count": null,
   "metadata": {
    "collapsed": false
   },
   "outputs": [],
   "source": [
    "# 1 - get list of users in nodea\n",
    "\n",
    "host = None ## fill in <user>@<nodea IP>\n",
    "check_credentials(host)\n",
    "with settings(host_string=host, password=passwd[host]):\n",
    "    user_list = server.get_users()"
   ]
  },
  {
   "cell_type": "code",
   "execution_count": null,
   "metadata": {
    "collapsed": false
   },
   "outputs": [],
   "source": [
    "# 2 - create hdfs accounts and hive accounts for users\n",
    "\n",
    "host = None ## fill in hdfs@<nodea IP>\n",
    "check_credentials(host)\n",
    "with settings(host_string=host, password=passwd[host]):\n",
    "    hdfs.add_users(add_list=user_list)\n",
    "    hive.add_users(add_list=user_list)"
   ]
  },
  {
   "cell_type": "code",
   "execution_count": null,
   "metadata": {
    "collapsed": true
   },
   "outputs": [],
   "source": []
  }
 ],
 "metadata": {
  "kernelspec": {
   "display_name": "Python [Root]",
   "language": "python",
   "name": "Python [Root]"
  },
  "language_info": {
   "codemirror_mode": {
    "name": "ipython",
    "version": 2
   },
   "file_extension": ".py",
   "mimetype": "text/x-python",
   "name": "python",
   "nbconvert_exporter": "python",
   "pygments_lexer": "ipython2",
   "version": "2.7.12"
  }
 },
 "nbformat": 4,
 "nbformat_minor": 0
}
